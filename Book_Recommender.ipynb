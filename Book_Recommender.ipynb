{
  "nbformat": 4,
  "nbformat_minor": 0,
  "metadata": {
    "colab": {
      "name": "Book Recommender.ipynb",
      "provenance": [],
      "collapsed_sections": [],
      "authorship_tag": "ABX9TyOjs8Q3Iv/MGoc6fVzF7e1B",
      "include_colab_link": true
    },
    "kernelspec": {
      "name": "python3",
      "display_name": "Python 3"
    }
  },
  "cells": [
    {
      "cell_type": "markdown",
      "metadata": {
        "id": "view-in-github",
        "colab_type": "text"
      },
      "source": [
        "<a href=\"https://colab.research.google.com/github/rasim321/Book_Recommender/blob/main/Book_Recommender.ipynb\" target=\"_parent\"><img src=\"https://colab.research.google.com/assets/colab-badge.svg\" alt=\"Open In Colab\"/></a>"
      ]
    },
    {
      "cell_type": "markdown",
      "metadata": {
        "id": "_BcdV6gmOPaL"
      },
      "source": [
        "**Book Recommender using Clustering Techniques:**\r\n",
        "\r\n",
        "Part 1: Using pre-made Goodreads dataset to recommend books\r\n",
        "\r\n",
        "\r\n",
        "*Adapted from Aatush Mishra [https://www.kaggle.com/aayushmishra1512]*\r\n",
        "\r\n",
        "\r\n",
        "---\r\n",
        "\r\n"
      ]
    },
    {
      "cell_type": "code",
      "metadata": {
        "id": "b5TyZ-BYOLhP"
      },
      "source": [
        "#Adapted from Aayush Mishra [https://www.kaggle.com/aayushmishra1512]\r\n",
        "\r\n",
        "#Part1:\r\n",
        "import numpy as np \r\n",
        "import pandas as pd\r\n",
        "import seaborn as sns\r\n",
        "import matplotlib.pyplot as plt\r\n",
        "from sklearn.cluster import KMeans\r\n",
        "from sklearn import neighbors\r\n",
        "from sklearn.model_selection import train_test_split\r\n",
        "from sklearn.preprocessing import MinMaxScaler\r\n",
        "\r\n",
        "#Part 2:\r\n",
        "import argparse\r\n",
        "from datetime import datetime\r\n",
        "import json\r\n",
        "import os\r\n",
        "import re\r\n",
        "import time\r\n",
        "from urllib.request import urlopen\r\n",
        "from urllib.error import HTTPError\r\n",
        "import bs4\r\n",
        "from googlesearch import search \r\n"
      ],
      "execution_count": 89,
      "outputs": []
    },
    {
      "cell_type": "code",
      "metadata": {
        "colab": {
          "resources": {
            "http://localhost:8080/nbextensions/google.colab/files.js": {
              "data": "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",
              "ok": true,
              "headers": [
                [
                  "content-type",
                  "application/javascript"
                ]
              ],
              "status": 200,
              "status_text": ""
            }
          },
          "base_uri": "https://localhost:8080/",
          "height": 56
        },
        "id": "k8Oa6gjoPHLA",
        "outputId": "3a400063-edd4-44f7-b878-6dcb7f1c6d5e"
      },
      "source": [
        "#Load Dataset\r\n",
        "from google.colab import files\r\n",
        "uploaded = files.upload()"
      ],
      "execution_count": 2,
      "outputs": [
        {
          "output_type": "display_data",
          "data": {
            "text/html": [
              "\n",
              "     <input type=\"file\" id=\"files-1b4de3be-8a44-4754-bf54-bdeb498da34d\" name=\"files[]\" multiple disabled\n",
              "        style=\"border:none\" />\n",
              "     <output id=\"result-1b4de3be-8a44-4754-bf54-bdeb498da34d\">\n",
              "      Upload widget is only available when the cell has been executed in the\n",
              "      current browser session. Please rerun this cell to enable.\n",
              "      </output>\n",
              "      <script src=\"/nbextensions/google.colab/files.js\"></script> "
            ],
            "text/plain": [
              "<IPython.core.display.HTML object>"
            ]
          },
          "metadata": {
            "tags": []
          }
        },
        {
          "output_type": "stream",
          "text": [
            "Saving books.csv to books.csv\n"
          ],
          "name": "stdout"
        }
      ]
    },
    {
      "cell_type": "code",
      "metadata": {
        "colab": {
          "base_uri": "https://localhost:8080/"
        },
        "id": "z2RAPMnPPRPQ",
        "outputId": "c6fc5d75-240c-4a63-a442-8f5755c11dde"
      },
      "source": [
        "df = pd.read_csv(\"books.csv\", error_bad_lines=False)\r\n",
        "\r\n",
        "#Let's see the data\r\n",
        "df.head()"
      ],
      "execution_count": 3,
      "outputs": [
        {
          "output_type": "stream",
          "text": [
            "b'Skipping line 3350: expected 12 fields, saw 13\\nSkipping line 4704: expected 12 fields, saw 13\\nSkipping line 5879: expected 12 fields, saw 13\\nSkipping line 8981: expected 12 fields, saw 13\\n'\n"
          ],
          "name": "stderr"
        }
      ]
    },
    {
      "cell_type": "markdown",
      "metadata": {
        "id": "67XU0kDLP5HO"
      },
      "source": [
        "Variables: \r\n",
        "\r\n",
        "**bookID** - Contains the unique ID for each book/series\r\n",
        "\r\n",
        "**title** - contains the titles of the books\r\n",
        "\r\n",
        "**authors** - contains the author of the particular book\r\n",
        "\r\n",
        "**average_rating**- the average rating of the books, as decided by the users\r\n",
        "\r\n",
        "**ISBN** - Another unique number to identify the book, the International Standard Book Number.\r\n",
        "\r\n",
        "**ISBN 13** - A 13-digit ISBN to identify the book, instead of the standard 11-digit ISBN.\r\n",
        "\r\n",
        "**language_code** - Helps understand what is the primary language of the book. For instance, eng is standard for English.\r\n",
        "\r\n",
        "**num_pages** - Number of pages the book contains.\r\n",
        "\r\n",
        "**ratings_count** - Total number of ratings the book received.\r\n",
        "\r\n",
        "**text_reviews_count** - Total number of written text reviews the book received.\r\n",
        "\r\n",
        "\r\n"
      ]
    },
    {
      "cell_type": "code",
      "metadata": {
        "colab": {
          "base_uri": "https://localhost:8080/"
        },
        "id": "TekCTVFAQWto",
        "outputId": "83485777-103e-417b-e047-4c8a4fcbf30d"
      },
      "source": [
        "#How many unique titles\r\n",
        "books_n = len(df[\"title\"].unique())\r\n",
        "print(f'There are {books_n} unique books in the dataset')\r\n",
        "\r\n",
        "#And unique authors?\r\n",
        "author_n = len(df[\"authors\"].unique())\r\n",
        "print(f'And there are {author_n} unique authors')\r\n",
        "\r\n",
        "pro_auth_one = df.authors.mode()[0]\r\n",
        "pro_auth_two = df.authors.mode()[1]\r\n",
        "\r\n",
        "print(f'The two most prolific authors are {pro_auth_one} and {pro_auth_two} who\\\r\n",
        " each penned 40 books.')\r\n"
      ],
      "execution_count": 5,
      "outputs": [
        {
          "output_type": "stream",
          "text": [
            "There are 10348 unique books in the dataset\n",
            "And there are 6639 unique authors\n",
            "The two most prolific authors are P.G. Wodehouse and Stephen King who each penned 40 books.\n"
          ],
          "name": "stdout"
        }
      ]
    },
    {
      "cell_type": "code",
      "metadata": {
        "colab": {
          "base_uri": "https://localhost:8080/"
        },
        "id": "t_Go1fp6TTlF",
        "outputId": "f0a373e9-5588-45a6-cebf-933102da1c58"
      },
      "source": [
        "#Let's find the top 20 books by ratings\r\n",
        "from tabulate import tabulate\r\n",
        "\r\n",
        "#Sorting books by those rated over 100k times\r\n",
        "df_high_rate = df.loc[df[\"ratings_count\"] > 100000]\r\n",
        "\r\n",
        "#Collecting the top 20 books\r\n",
        "top20 = df_high_rate.sort_values(by=\"average_rating\", ascending = False).head(20)\r\n",
        "\r\n",
        "print(tabulate(top20[[\"title\",\"authors\",\"average_rating\"]], headers=['title','author','rating']))"
      ],
      "execution_count": 6,
      "outputs": [
        {
          "output_type": "stream",
          "text": [
            "       title                                                                                   author                                                               rating\n",
            "-----  --------------------------------------------------------------------------------------  -----------------------------------------------------------------  --------\n",
            "   21  J.R.R. Tolkien 4-Book Boxed Set: The Hobbit and The Lord of the Rings                   J.R.R. Tolkien                                                         4.59\n",
            "    0  Harry Potter and the Half-Blood Prince (Harry Potter  #6)                               J.K. Rowling/Mary GrandPré                                             4.57\n",
            "    3  Harry Potter and the Prisoner of Azkaban (Harry Potter  #3)                             J.K. Rowling/Mary GrandPré                                             4.56\n",
            " 4244  The Complete Maus                                                                       Art Spiegelman                                                         4.55\n",
            "  288  Fullmetal Alchemist  Vol. 1 (Fullmetal Alchemist  #1)                                   Hiromu Arakawa/Akira Watanabe                                          4.5\n",
            "    1  Harry Potter and the Order of the Phoenix (Harry Potter  #5)                            J.K. Rowling/Mary GrandPré                                             4.49\n",
            "10528  Lover Awakened (Black Dagger Brotherhood  #3)                                           J.R. Ward                                                              4.45\n",
            "10825  The Monster at the End of this Book                                                     Jon Stone/Michael J. Smollin                                           4.44\n",
            " 4254  The Two Towers (The Lord of the Rings  #2)                                              J.R.R. Tolkien/Peter S. Beagle                                         4.44\n",
            " 3150  The Green Mile                                                                          Stephen King                                                           4.44\n",
            " 2960  A Breath of Snow and Ashes (Outlander  #6)                                              Diana Gabaldon                                                         4.44\n",
            " 3787  Death Note  Vol. 1: Boredom (Death Note  #1)                                            Tsugumi Ohba/Takeshi Obata/Pookie Rolf                                 4.43\n",
            " 4415  Harry Potter and the Chamber of Secrets (Harry Potter  #2)                              J.K. Rowling/Mary GrandPré                                             4.42\n",
            " 2846  A Clash of Kings  (A Song of Ice and Fire  #2)                                          George R.R. Martin                                                     4.41\n",
            " 2976  Voyager (Outlander  #3)                                                                 Diana Gabaldon                                                         4.39\n",
            "    8  The Ultimate Hitchhiker's Guide to the Galaxy (Hitchhiker's Guide to the Galaxy  #1-5)  Douglas Adams                                                          4.38\n",
            " 6349  The Complete Stories and Poems                                                          Edgar Allan Poe                                                        4.38\n",
            " 5270  The Book Thief                                                                          Markus Zusak/Cao Xuân Việt Khương                                      4.37\n",
            " 1201  Man's Search for Meaning                                                                Viktor E. Frankl/Harold S. Kushner/William J. Winslade/Isle Lasch      4.36\n",
            " 1505  A Fine Balance                                                                          Rohinton Mistry                                                        4.36\n"
          ],
          "name": "stdout"
        }
      ]
    },
    {
      "cell_type": "markdown",
      "metadata": {
        "id": "7iwa_hwPV8cg"
      },
      "source": [
        "Unsurprisingly, the Lord of the Rings and Harry Potter novels rank numerous times on the list. More surprising is the popularity of manga and graphic novels such as Fullmetal Alchemist, Death Note, and Maus. Another important finding here is that the highest rating among these books is a 4.6. If we look at this ratings blindly, 4.6 may seem like a low to mediocre rating for a book. However, the range of Goodreads ratings are important to consider.  "
      ]
    },
    {
      "cell_type": "code",
      "metadata": {
        "colab": {
          "base_uri": "https://localhost:8080/"
        },
        "id": "cxiRHr0aWSxZ",
        "outputId": "ef0e7e3b-4cfc-4696-f5ef-476c597aad45"
      },
      "source": [
        "#Let's see the same list but by number of ratings:\r\n",
        "\r\n",
        "top20_r = df.sort_values(by=\"ratings_count\", ascending = False).head(20)\r\n",
        "\r\n",
        "print(tabulate(top20_r[[\"title\",\"authors\",\"ratings_count\"]]))\r\n"
      ],
      "execution_count": 7,
      "outputs": [
        {
          "output_type": "stream",
          "text": [
            "-----  ------------------------------------------------------------  --------------------------------------------------  -------\n",
            "10336  Twilight (Twilight  #1)                                       Stephenie Meyer                                     4597666\n",
            " 1697  The Hobbit  or There and Back Again                           J.R.R. Tolkien                                      2530894\n",
            " 1462  The Catcher in the Rye                                        J.D. Salinger                                       2457092\n",
            "  307  Angels & Demons (Robert Langdon  #1)                          Dan Brown                                           2418736\n",
            "    3  Harry Potter and the Prisoner of Azkaban (Harry Potter  #3)   J.K. Rowling/Mary GrandPré                          2339585\n",
            " 4415  Harry Potter and the Chamber of Secrets (Harry Potter  #2)    J.K. Rowling/Mary GrandPré                          2293963\n",
            "    1  Harry Potter and the Order of the Phoenix (Harry Potter  #5)  J.K. Rowling/Mary GrandPré                          2153167\n",
            "   23  The Fellowship of the Ring (The Lord of the Rings  #1)        J.R.R. Tolkien                                      2128944\n",
            " 2114  Animal Farm                                                   George Orwell/Boris Grabnar/Peter Škerl             2111750\n",
            "    0  Harry Potter and the Half-Blood Prince (Harry Potter  #6)     J.K. Rowling/Mary GrandPré                          2095690\n",
            " 2116  Lord of the Flies                                             William Golding                                     2036679\n",
            " 5015  Romeo and Juliet                                              William Shakespeare/Paul Werstine/Barbara A. Mowat  1893917\n",
            " 7309  The Lightning Thief (Percy Jackson and the Olympians  #1)     Rick Riordan                                        1766725\n",
            "  294  Of Mice and Men                                               John Steinbeck                                      1755253\n",
            "  310  The Da Vinci Code (Robert Langdon  #2)                        Dan Brown                                           1679706\n",
            "  284  The Alchemist                                                 Paulo Coelho/Alan R. Clarke/Özdemir İnce            1631221\n",
            " 1069  The Giver (The Giver  #1)                                     Lois Lowry                                          1585589\n",
            " 5270  The Book Thief                                                Markus Zusak/Cao Xuân Việt Khương                   1516367\n",
            "  591  Little Women                                                  Louisa May Alcott                                   1479727\n",
            " 2764  Jane Eyre                                                     Charlotte Brontë/Michael Mason                      1409369\n",
            "-----  ------------------------------------------------------------  --------------------------------------------------  -------\n"
          ],
          "name": "stdout"
        }
      ]
    },
    {
      "cell_type": "markdown",
      "metadata": {
        "id": "5qTF74cvYJRH"
      },
      "source": [
        "For the number of ratings, Twilight far exceeds other books. This may not be all positive reviews, but the vampire novel did attract a lot of opinions.  "
      ]
    },
    {
      "cell_type": "code",
      "metadata": {
        "colab": {
          "base_uri": "https://localhost:8080/",
          "height": 535
        },
        "id": "FDDl4dGZYWeV",
        "outputId": "0cb431db-2878-4de0-ed26-e2d627d307a4"
      },
      "source": [
        "sns.set(rc={'figure.figsize':(12,8)})\r\n",
        "sns.barplot(x=\"ratings_count\", y=\"title\", data=top20_r, palette='Pastel2').set_title('Book Titles by number of Goodreads ratings')\r\n",
        "plt.xlabel(\"Number of Ratings\")\r\n",
        "plt.ylabel(\"Titles\")"
      ],
      "execution_count": 8,
      "outputs": [
        {
          "output_type": "execute_result",
          "data": {
            "text/plain": [
              "Text(0, 0.5, 'Titles')"
            ]
          },
          "metadata": {
            "tags": []
          },
          "execution_count": 8
        },
        {
          "output_type": "display_data",
          "data": {
            "image/png": "[encoded data removed]",
            "text/plain": [
              "<Figure size 864x576 with 1 Axes>"
            ]
          },
          "metadata": {
            "tags": []
          }
        }
      ]
    },
    {
      "cell_type": "code",
      "metadata": {
        "colab": {
          "base_uri": "https://localhost:8080/"
        },
        "id": "M3l8Ry-Qzooe",
        "outputId": "1fb2bee9-d72a-41c1-9e57-f33b5f39f1f0"
      },
      "source": [
        "#Seperate the english books from the dataset\r\n",
        "\r\n",
        "eng = df[df[\"language_code\"]==\"eng\"]\r\n",
        "eng.shape"
      ],
      "execution_count": 10,
      "outputs": [
        {
          "output_type": "execute_result",
          "data": {
            "text/plain": [
              "(8908, 12)"
            ]
          },
          "metadata": {
            "tags": []
          },
          "execution_count": 10
        }
      ]
    },
    {
      "cell_type": "markdown",
      "metadata": {
        "id": "TydY8ys21BcE"
      },
      "source": [
        "The English language only dataset has 8908 books. "
      ]
    },
    {
      "cell_type": "code",
      "metadata": {
        "colab": {
          "base_uri": "https://localhost:8080/"
        },
        "id": "Lfy4-iZj1FDZ",
        "outputId": "ba8aed51-eddf-46f9-b2fb-72388898dee1"
      },
      "source": [
        "#Let's make our book recommender\r\n",
        "\r\n",
        "#First we create dummy variables for the ratings\r\n",
        "eng.loc[ (eng['average_rating'] >= 0) & (eng['average_rating'] <= 1), 'rating_between'] = \"between 0 and 1\"\r\n",
        "eng.loc[ (eng['average_rating'] > 1) & (eng['average_rating'] <= 2), 'rating_between'] = \"between 1 and 2\"\r\n",
        "eng.loc[ (eng['average_rating'] > 2) & (eng['average_rating'] <= 3), 'rating_between'] = \"between 2 and 3\"\r\n",
        "eng.loc[ (eng['average_rating'] > 3) & (eng['average_rating'] <= 4), 'rating_between'] = \"between 3 and 4\"\r\n",
        "eng.loc[ (eng['average_rating'] > 4) & (eng['average_rating'] <= 5), 'rating_between'] = \"between 4 and 5\""
      ],
      "execution_count": 12,
      "outputs": [
        {
          "output_type": "stream",
          "text": [
            "/usr/local/lib/python3.7/dist-packages/pandas/core/indexing.py:1596: SettingWithCopyWarning: \n",
            "A value is trying to be set on a copy of a slice from a DataFrame.\n",
            "Try using .loc[row_indexer,col_indexer] = value instead\n",
            "\n",
            "See the caveats in the documentation: https://pandas.pydata.org/pandas-docs/stable/user_guide/indexing.html#returning-a-view-versus-a-copy\n",
            "  self.obj[key] = _infer_fill_value(value)\n",
            "/usr/local/lib/python3.7/dist-packages/pandas/core/indexing.py:1763: SettingWithCopyWarning: \n",
            "A value is trying to be set on a copy of a slice from a DataFrame.\n",
            "Try using .loc[row_indexer,col_indexer] = value instead\n",
            "\n",
            "See the caveats in the documentation: https://pandas.pydata.org/pandas-docs/stable/user_guide/indexing.html#returning-a-view-versus-a-copy\n",
            "  isetter(loc, value)\n",
            "/usr/local/lib/python3.7/dist-packages/pandas/core/indexing.py:1763: SettingWithCopyWarning: \n",
            "A value is trying to be set on a copy of a slice from a DataFrame.\n",
            "Try using .loc[row_indexer,col_indexer] = value instead\n",
            "\n",
            "See the caveats in the documentation: https://pandas.pydata.org/pandas-docs/stable/user_guide/indexing.html#returning-a-view-versus-a-copy\n",
            "  isetter(loc, value)\n",
            "/usr/local/lib/python3.7/dist-packages/pandas/core/indexing.py:1763: SettingWithCopyWarning: \n",
            "A value is trying to be set on a copy of a slice from a DataFrame.\n",
            "Try using .loc[row_indexer,col_indexer] = value instead\n",
            "\n",
            "See the caveats in the documentation: https://pandas.pydata.org/pandas-docs/stable/user_guide/indexing.html#returning-a-view-versus-a-copy\n",
            "  isetter(loc, value)\n",
            "/usr/local/lib/python3.7/dist-packages/pandas/core/indexing.py:1763: SettingWithCopyWarning: \n",
            "A value is trying to be set on a copy of a slice from a DataFrame.\n",
            "Try using .loc[row_indexer,col_indexer] = value instead\n",
            "\n",
            "See the caveats in the documentation: https://pandas.pydata.org/pandas-docs/stable/user_guide/indexing.html#returning-a-view-versus-a-copy\n",
            "  isetter(loc, value)\n",
            "/usr/local/lib/python3.7/dist-packages/pandas/core/indexing.py:1763: SettingWithCopyWarning: \n",
            "A value is trying to be set on a copy of a slice from a DataFrame.\n",
            "Try using .loc[row_indexer,col_indexer] = value instead\n",
            "\n",
            "See the caveats in the documentation: https://pandas.pydata.org/pandas-docs/stable/user_guide/indexing.html#returning-a-view-versus-a-copy\n",
            "  isetter(loc, value)\n"
          ],
          "name": "stderr"
        }
      ]
    },
    {
      "cell_type": "code",
      "metadata": {
        "colab": {
          "base_uri": "https://localhost:8080/"
        },
        "id": "e5gTPl-Z6svr",
        "outputId": "5bbfeb14-ed83-477c-b24d-7e3abb3d8d58"
      },
      "source": [
        "#Let's get the features for the KNN model\r\n",
        "ratings = pd.get_dummies(eng[\"rating_between\"])\r\n",
        "features = pd.concat([ratings, eng['average_rating'], eng['ratings_count']], axis=1)\r\n",
        "features.head()\r\n",
        "\r\n",
        "#Processing\r\n",
        "scaler = MinMaxScaler()\r\n",
        "features = scaler.fit_transform(features)\r\n"
      ],
      "execution_count": 18,
      "outputs": [
        {
          "output_type": "execute_result",
          "data": {
            "text/plain": [
              "array([[0.00000000e+00, 0.00000000e+00, 0.00000000e+00, ...,\n",
              "        1.00000000e+00, 9.14000000e-01, 4.55816060e-01],\n",
              "       [0.00000000e+00, 0.00000000e+00, 0.00000000e+00, ...,\n",
              "        1.00000000e+00, 8.98000000e-01, 4.68317403e-01],\n",
              "       [0.00000000e+00, 0.00000000e+00, 0.00000000e+00, ...,\n",
              "        1.00000000e+00, 8.84000000e-01, 1.37743803e-03],\n",
              "       ...,\n",
              "       [0.00000000e+00, 0.00000000e+00, 0.00000000e+00, ...,\n",
              "        1.00000000e+00, 8.16000000e-01, 1.70303802e-04],\n",
              "       [0.00000000e+00, 0.00000000e+00, 0.00000000e+00, ...,\n",
              "        0.00000000e+00, 7.92000000e-01, 1.78351363e-04],\n",
              "       [0.00000000e+00, 0.00000000e+00, 0.00000000e+00, ...,\n",
              "        0.00000000e+00, 7.44000000e-01, 1.67258779e-04]])"
            ]
          },
          "metadata": {
            "tags": []
          },
          "execution_count": 18
        }
      ]
    },
    {
      "cell_type": "code",
      "metadata": {
        "id": "t3Z2yVeq7oFm"
      },
      "source": [
        "#Fit the knn model\r\n",
        "knn_model = neighbors.NearestNeighbors(n_neighbors=3, algorithm='ball_tree')\r\n",
        "knn_model.fit(features)\r\n",
        "dist, idlist = knn_model.kneighbors(features)"
      ],
      "execution_count": 20,
      "outputs": []
    },
    {
      "cell_type": "code",
      "metadata": {
        "id": "o2GmhN_p7OO0"
      },
      "source": [
        "#And create the book recommendation function\r\n",
        "def BookRecommender(book_name):\r\n",
        "    book_list = []\r\n",
        "    book_id = eng[eng['title'] == book_name].index[0]\r\n",
        "    for newid in idlist[book_id]:\r\n",
        "        book_list.append(eng.loc[newid].title)\r\n",
        "    return book_list"
      ],
      "execution_count": 24,
      "outputs": []
    },
    {
      "cell_type": "code",
      "metadata": {
        "colab": {
          "base_uri": "https://localhost:8080/"
        },
        "id": "hWX9oDuD7-7G",
        "outputId": "3586e1b0-2126-4756-e650-4bbd38c7df9c"
      },
      "source": [
        "#Let's try it out\r\n",
        "BookRecommender(\"Animal Farm\")"
      ],
      "execution_count": 25,
      "outputs": [
        {
          "output_type": "execute_result",
          "data": {
            "text/plain": [
              "['Animal Farm',\n",
              " 'The Return of Lum  Volume 1: Urusei Yatsura (Urusei Yatsura  #2)',\n",
              " 'Glass House']"
            ]
          },
          "metadata": {
            "tags": []
          },
          "execution_count": 25
        }
      ]
    },
    {
      "cell_type": "markdown",
      "metadata": {
        "id": "5H3GxJHJcYAn"
      },
      "source": [
        "Can we improve this Recommender? \r\n",
        "\r\n",
        "To do so, we would need more data from Goodreads. We may also want to update the dataset with the number of reviews, ratings, and plot summaries. \r\n",
        "\r\n",
        "**Part 2: Web-Scraping GoodReads**\r\n",
        "\r\n",
        "\r\n",
        "\r\n",
        "---\r\n",
        "\r\n",
        "---\r\n",
        "\r\n",
        "\r\n",
        "\r\n"
      ]
    },
    {
      "cell_type": "code",
      "metadata": {
        "id": "oFkyEtRQBvhU"
      },
      "source": [
        "def Rater(ratings):\r\n",
        "\r\n",
        "  #Lists for Average Rating and Number of Reviews\r\n",
        "  rating_avg= []\r\n",
        "  rating_num = []\r\n",
        "\r\n",
        "  for i in ratings: \r\n",
        "    rating_avg.append(re.findall(\"\\d+\\.\\d+\", i)[0])\r\n",
        "    try: \r\n",
        "      rating_num.append(re.findall(\"(?<=—)(.*)(?=ratings)\",i)[0])\r\n",
        "    except IndexError:\r\n",
        "      rating_num.append('0')\r\n",
        "\r\n",
        "  rating_avg = [float(i) for i in rating_avg]\r\n",
        "  rating_num = [int(j.replace(\",\", \"\").strip()) for j in rating_num]\r\n",
        "\r\n",
        "  return rating_avg, rating_num\r\n",
        "\r\n",
        "\r\n",
        "def GetDetails(links):\r\n",
        "\r\n",
        "  url = 'https://www.goodreads.com/'\r\n",
        "  plot_df = []\r\n",
        "  book_all_tags = []\r\n",
        "  n_reviews = []\r\n",
        "  count = 0\r\n",
        "\r\n",
        "  for link in links:\r\n",
        "\r\n",
        "    book_page = urlopen(url + link)\r\n",
        "    soup = bs4.BeautifulSoup(book_page, \"html.parser\")\r\n",
        "    count += 1\r\n",
        "\r\n",
        "    plots = soup.select('#description span')\r\n",
        "    if len(plots) > 1:\r\n",
        "      summary = []\r\n",
        "\r\n",
        "      for plot in plots:\r\n",
        "        summary.append(plot.text)\r\n",
        "      \r\n",
        "      plot_df.append(summary[1])\r\n",
        "        \r\n",
        "    else:\r\n",
        "      for plot in plots:\r\n",
        "        plot_df.append(plot.text)\r\n",
        "\r\n",
        "\r\n",
        "\r\n",
        "    #Get book tags\r\n",
        "    book_tags = []\r\n",
        "\r\n",
        "    tags = soup.select('.bookPageGenreLink')\r\n",
        "    for tag in tags:\r\n",
        "      book_tags.append(tag.text)\r\n",
        "\r\n",
        "    book_tags = [x for x in book_tags if not any(c.isdigit() for c in x)]\r\n",
        "    book_all_tags.append(book_tags)\r\n",
        "    time.sleep(1)\r\n",
        "    print(\"Book: \" + str(count) +  \" out of \" + str(len(links)))\r\n",
        "\r\n",
        "\r\n",
        "    #Get Number of Reviews:\r\n",
        "    reviews = soup.select('.reviewControls--left.greyText')\r\n",
        "    rev = []\r\n",
        "    for review in reviews:\r\n",
        "      rev.append(review.text)\r\n",
        "    rev = re.findall(\"\\s\\d+\\s|\\d+,\\d+\", rev[0])\r\n",
        "    rev = [item.replace(\",\", \"\") for item in rev]\r\n",
        "    n_reviews.append(int(rev[1]))\r\n",
        "    \r\n",
        "  return plot_df, book_all_tags, n_reviews\r\n",
        "\r\n",
        "def ListScraper(link):\r\n",
        "  url = 'https://www.goodreads.com/'\r\n",
        "\r\n",
        "  #Check if the link contains a Goodreads list\r\n",
        "  if \"list\" in link:\r\n",
        "    pass\r\n",
        "  else:\r\n",
        "    print(\"This link does not contain a GoodReads list\")\r\n",
        "\r\n",
        "  #Strip the list url from the full url\r\n",
        "  if link.startswith(url):\r\n",
        "    list_url = link.replace(url, '')\r\n",
        "  else:\r\n",
        "    list_url = link\r\n",
        "\r\n",
        "  #Make lists for the data we want\r\n",
        "  titles = []\r\n",
        "  authors = []\r\n",
        "  ratings = []\r\n",
        "  book_links = []\r\n",
        "\r\n",
        "  #Loop through the number of pages\r\n",
        "  while list_url != None:\r\n",
        "\r\n",
        "    #Set up the URL\r\n",
        "    source = urlopen(url + list_url)\r\n",
        "    soup = bs4.BeautifulSoup(source, \"html.parser\")\r\n",
        "\r\n",
        "    #Get all titles from this page\r\n",
        "    books = soup.select(\".bookTitle span\")\r\n",
        "    for book in books:\r\n",
        "      titles.append(book.text)\r\n",
        "    \r\n",
        "    #Get the authors\r\n",
        "    writers = soup.select(\".authorName span\")\r\n",
        "    for author in writers:\r\n",
        "      authors.append(author.text)\r\n",
        "\r\n",
        "    #Get the ratings:\r\n",
        "    rates = soup.select(\".minirating\")\r\n",
        "    for rate in rates:\r\n",
        "      ratings.append(rate.text)\r\n",
        "\r\n",
        "    #Get the links:\r\n",
        "    links = soup.findAll('a', {'class': 'bookTitle'})\r\n",
        "    for link in links:\r\n",
        "      book_links.append(link['href'])\r\n",
        "\r\n",
        "    #Check if there is a next page and either end the program or continue to next page\r\n",
        "    if not soup.select(\".pagination\"):\r\n",
        "      list_url = None\r\n",
        "    else:\r\n",
        "      next = soup.select(\".pagination\")[0].select(\".next_page\")[0].get('href')\r\n",
        "      if next != None:\r\n",
        "        list_url = next\r\n",
        "        print(\"Going to next page...\")\r\n",
        "      else:\r\n",
        "        list_url = next\r\n",
        "        print(\"No more pages to scan.\")\r\n",
        "  \r\n",
        "  #Transform string ratings to average and number of ratings\r\n",
        "  rating_avg, rating_num = Rater(ratings)\r\n",
        "\r\n",
        "  #Get book details: plot summary, tags, and number of reviews\r\n",
        "  plot_df, book_all_tags, num_reviews = GetDetails(book_links)\r\n",
        "  \r\n",
        "  book_df = pd.DataFrame({\r\n",
        "      'title': titles,\r\n",
        "      'author': authors,\r\n",
        "      \"avg_rate\": rating_avg,\r\n",
        "      \"number of ratings\": rating_num,\r\n",
        "      \"link\": book_links,\r\n",
        "      \"plot summary\": plot_df,\r\n",
        "      \"tags\": book_all_tags,\r\n",
        "      \"reviews\": num_reviews\r\n",
        "  })\r\n",
        "  \r\n",
        "  return book_df\r\n",
        "  \r\n"
      ],
      "execution_count": 90,
      "outputs": []
    },
    {
      "cell_type": "code",
      "metadata": {
        "colab": {
          "base_uri": "https://localhost:8080/",
          "height": 330
        },
        "id": "SMqK32ShhkRE",
        "outputId": "c98560a0-b93d-4d3a-bb42-879d1217b445"
      },
      "source": [
        "manga = ListScraper(\"https://www.goodreads.com/?ref=nav_home\")\r\n",
        "manga.head(10)\r\n",
        "\r\n"
      ],
      "execution_count": 3,
      "outputs": [
        {
          "output_type": "stream",
          "text": [
            "This link does not contain a GoodReads list\n"
          ],
          "name": "stdout"
        },
        {
          "output_type": "error",
          "ename": "NameError",
          "evalue": "ignored",
          "traceback": [
            "\u001b[0;31m---------------------------------------------------------------------------\u001b[0m",
            "\u001b[0;31mNameError\u001b[0m                                 Traceback (most recent call last)",
            "\u001b[0;32m<ipython-input-3-631a6658ebe2>\u001b[0m in \u001b[0;36m<module>\u001b[0;34m()\u001b[0m\n\u001b[0;32m----> 1\u001b[0;31m \u001b[0mmanga\u001b[0m \u001b[0;34m=\u001b[0m \u001b[0mListScraper\u001b[0m\u001b[0;34m(\u001b[0m\u001b[0;34m\"https://www.goodreads.com/?ref=nav_home\"\u001b[0m\u001b[0;34m)\u001b[0m\u001b[0;34m\u001b[0m\u001b[0;34m\u001b[0m\u001b[0m\n\u001b[0m\u001b[1;32m      2\u001b[0m \u001b[0mmanga\u001b[0m\u001b[0;34m.\u001b[0m\u001b[0mhead\u001b[0m\u001b[0;34m(\u001b[0m\u001b[0;36m10\u001b[0m\u001b[0;34m)\u001b[0m\u001b[0;34m\u001b[0m\u001b[0;34m\u001b[0m\u001b[0m\n\u001b[1;32m      3\u001b[0m \u001b[0;34m\u001b[0m\u001b[0m\n",
            "\u001b[0;32m<ipython-input-2-f611d363e9ce>\u001b[0m in \u001b[0;36mListScraper\u001b[0;34m(link)\u001b[0m\n\u001b[1;32m    137\u001b[0m   \u001b[0mplot_df\u001b[0m\u001b[0;34m,\u001b[0m \u001b[0mbook_all_tags\u001b[0m\u001b[0;34m,\u001b[0m \u001b[0mnum_reviews\u001b[0m \u001b[0;34m=\u001b[0m \u001b[0mGetDetails\u001b[0m\u001b[0;34m(\u001b[0m\u001b[0mbook_links\u001b[0m\u001b[0;34m)\u001b[0m\u001b[0;34m\u001b[0m\u001b[0;34m\u001b[0m\u001b[0m\n\u001b[1;32m    138\u001b[0m \u001b[0;34m\u001b[0m\u001b[0m\n\u001b[0;32m--> 139\u001b[0;31m   book_df = pd.DataFrame({\n\u001b[0m\u001b[1;32m    140\u001b[0m       \u001b[0;34m'title'\u001b[0m\u001b[0;34m:\u001b[0m \u001b[0mtitles\u001b[0m\u001b[0;34m,\u001b[0m\u001b[0;34m\u001b[0m\u001b[0;34m\u001b[0m\u001b[0m\n\u001b[1;32m    141\u001b[0m       \u001b[0;34m'author'\u001b[0m\u001b[0;34m:\u001b[0m \u001b[0mauthors\u001b[0m\u001b[0;34m,\u001b[0m\u001b[0;34m\u001b[0m\u001b[0;34m\u001b[0m\u001b[0m\n",
            "\u001b[0;31mNameError\u001b[0m: name 'pd' is not defined"
          ]
        }
      ]
    },
    {
      "cell_type": "code",
      "metadata": {
        "cellView": "code",
        "id": "dbVeconBG9xo"
      },
      "source": [
        "#@title Default title text\n",
        "# book_page = urlopen('https://www.goodreads.com/book/show/6690979-black-butler-vol-1')\n",
        "# soup = bs4.BeautifulSoup(book_page, \"html.parser\")\n",
        "\n",
        "def BookDetails(links, title_data=False, author_data=False, ratings_data = False):\n",
        "\n",
        "  url = 'https://www.goodreads.com/'\n",
        "\n",
        "  #Additonal Details\n",
        "  title_df = []\n",
        "  author_df = []\n",
        "  avg_rating_df = []\n",
        "  ratings_num_df = []\n",
        "\n",
        "  #Regular details\n",
        "  plot_df = []\n",
        "  book_all_tags = []\n",
        "  n_reviews = []\n",
        "  count = 0\n",
        "\n",
        "  for link in links:\n",
        "  \n",
        "    #check if link is the full url or just book link\n",
        "    if \"goodreads\" in link:\n",
        "      book_page = urlopen(link)\n",
        "    else:\n",
        "      book_page = urlopen(url + link)\n",
        "\n",
        "    #Create the BS object\n",
        "    soup = bs4.BeautifulSoup(book_page, \"html.parser\")\n",
        "    count += 1\n",
        "\n",
        "    #Check if title data is required\n",
        "    if title_data == True:\n",
        "      title = soup.select('#bookTitle')\n",
        "      for j in title:\n",
        "        title_df.append(j.text.strip())\n",
        "    else:\n",
        "      pass\n",
        "    \n",
        "    #Check if author data is required\n",
        "    if author_data == True:\n",
        "      author = soup.find(\"span\", itemprop=\"name\").text\n",
        "      author_df.append(author)\n",
        "    else:\n",
        "      pass\n",
        "    \n",
        "    #Check if ratings data is required\n",
        "    if ratings_data == True:\n",
        "      rating = soup.find(\"span\", itemprop=\"ratingValue\")\n",
        "      for l in rating:\n",
        "        avg_rating_df.append(float(l.strip()))\n",
        "      \n",
        "      ratings_num = soup.find(\"meta\", itemprop=\"ratingCount\").get('content')\n",
        "      ratings_num_df.append(ratings_num)\n",
        "    else:\n",
        "      pass\n",
        "\n",
        "\n",
        "    #Get plot summaries\n",
        "    plots = soup.select('#description span')\n",
        "    if len(plots) > 1:\n",
        "      summary = []\n",
        "\n",
        "      for plot in plots:\n",
        "        summary.append(plot.text)\n",
        "      \n",
        "      plot_df.append(summary[1])\n",
        "        \n",
        "    else:\n",
        "      for plot in plots:\n",
        "        plot_df.append(plot.text)\n",
        "\n",
        "\n",
        "\n",
        "    #Get book tags\n",
        "    book_tags = []\n",
        "\n",
        "    tags = soup.select('.bookPageGenreLink')\n",
        "    for tag in tags:\n",
        "      book_tags.append(tag.text)\n",
        "\n",
        "    book_tags = [x for x in book_tags if not any(c.isdigit() for c in x)]\n",
        "    book_all_tags.append(book_tags)\n",
        "    time.sleep(1)\n",
        "    print(\"Book: \" + str(count) +  \" out of \" + str(len(links)))\n",
        "\n",
        "\n",
        "    #Get Number of Reviews:\n",
        "    n_review = soup.find(\"meta\", itemprop=\"reviewCount\").get('content')\n",
        "    n_reviews.append(n_review)\n",
        "  \n",
        "  if title_data==False:\n",
        "    title_df = [None] * len(links)\n",
        "  if author_data==False:\n",
        "    author_df = [None] * len(links)\n",
        "  if ratings_data==False:\n",
        "    avg_rating_df = [None] * len(links)\n",
        "    ratings_num_df = [None] * len(links)\n",
        "    \n",
        "  book_df = pd.DataFrame({\n",
        "      'title': title_df,\n",
        "      'author': author_df,\n",
        "      \"avg_rate\": avg_rating_df,\n",
        "      \"number_of_ratings\": ratings_num_df,\n",
        "      \"plot_summary\": plot_df,\n",
        "      \"tags\": book_all_tags,\n",
        "      \"reviews\": n_reviews\n",
        "  })\n",
        "  return book_df\n",
        "\n",
        "# plots, tags, reviews = GetDetails(manga[\"link\"][0:2])\n",
        "# print(plots, tags, reviews)"
      ],
      "execution_count": 91,
      "outputs": []
    },
    {
      "cell_type": "code",
      "metadata": {
        "colab": {
          "base_uri": "https://localhost:8080/",
          "height": 237
        },
        "id": "v__a4G7AFmnn",
        "outputId": "3c87c39b-bc63-4d74-c598-19b0a15d75e0"
      },
      "source": [
        "try_a = BookDetails(BookLinks([\"Debt: the last 5000 years\",\"Holidays on ice\",\"Catcher in the Rye\"]), title_data=True,author_data=True, ratings_data=True)\r\n",
        "try_a"
      ],
      "execution_count": 94,
      "outputs": [
        {
          "output_type": "stream",
          "text": [
            "Book: 1 out of 3\n",
            "Book: 2 out of 3\n",
            "Book: 3 out of 3\n"
          ],
          "name": "stdout"
        },
        {
          "output_type": "execute_result",
          "data": {
            "text/html": [
              "<div>\n",
              "<style scoped>\n",
              "    .dataframe tbody tr th:only-of-type {\n",
              "        vertical-align: middle;\n",
              "    }\n",
              "\n",
              "    .dataframe tbody tr th {\n",
              "        vertical-align: top;\n",
              "    }\n",
              "\n",
              "    .dataframe thead th {\n",
              "        text-align: right;\n",
              "    }\n",
              "</style>\n",
              "<table border=\"1\" class=\"dataframe\">\n",
              "  <thead>\n",
              "    <tr style=\"text-align: right;\">\n",
              "      <th></th>\n",
              "      <th>title</th>\n",
              "      <th>author</th>\n",
              "      <th>avg_rate</th>\n",
              "      <th>number_of_ratings</th>\n",
              "      <th>plot_summary</th>\n",
              "      <th>tags</th>\n",
              "      <th>reviews</th>\n",
              "    </tr>\n",
              "  </thead>\n",
              "  <tbody>\n",
              "    <tr>\n",
              "      <th>0</th>\n",
              "      <td>Debt: The First 5,000 Years</td>\n",
              "      <td>David Graeber</td>\n",
              "      <td>4.17</td>\n",
              "      <td>13261</td>\n",
              "      <td>Before there was money, there was debt Every e...</td>\n",
              "      <td>[Economics, History, Nonfiction, Anthropology,...</td>\n",
              "      <td>1729</td>\n",
              "    </tr>\n",
              "    <tr>\n",
              "      <th>1</th>\n",
              "      <td>Holidays on Ice</td>\n",
              "      <td>David Sedaris</td>\n",
              "      <td>3.90</td>\n",
              "      <td>114559</td>\n",
              "      <td>David Sedaris's beloved holiday collection is ...</td>\n",
              "      <td>[Humor, Nonfiction, Short Stories, Autobiograp...</td>\n",
              "      <td>5921</td>\n",
              "    </tr>\n",
              "    <tr>\n",
              "      <th>2</th>\n",
              "      <td>The Catcher in the Rye</td>\n",
              "      <td>J.D. Salinger</td>\n",
              "      <td>3.81</td>\n",
              "      <td>2840676</td>\n",
              "      <td>The hero-narrator of The Catcher in the Rye is...</td>\n",
              "      <td>[Classics, Fiction, Young Adult, Literature, A...</td>\n",
              "      <td>59761</td>\n",
              "    </tr>\n",
              "  </tbody>\n",
              "</table>\n",
              "</div>"
            ],
            "text/plain": [
              "                         title  ... reviews\n",
              "0  Debt: The First 5,000 Years  ...    1729\n",
              "1              Holidays on Ice  ...    5921\n",
              "2       The Catcher in the Rye  ...   59761\n",
              "\n",
              "[3 rows x 7 columns]"
            ]
          },
          "metadata": {
            "tags": []
          },
          "execution_count": 94
        }
      ]
    },
    {
      "cell_type": "code",
      "metadata": {
        "colab": {
          "base_uri": "https://localhost:8080/"
        },
        "id": "SlJYtjkjKzu-",
        "outputId": "10ac0c97-7695-4b84-abe6-a6567cb674dc"
      },
      "source": [
        ""
      ],
      "execution_count": 88,
      "outputs": [
        {
          "output_type": "stream",
          "text": [
            "Before there was money, there was debt Every economics textbook says the same thing: Money was invented to replace onerous and complicated barter systems—to relieve ancient people from having to haul their goods to market. The problem with this version of history? There’s not a shred of evidence to support it.Here anthropologist David Graeber presents a stunning reversal of conventional wisdom. He shows that for more than 5,000 years, since the beginnings of the first agrarian empires, humans have used elaborate credit systems to buy and sell goods—that is, long before the invention of coins or cash. It is in this era, Graeber argues, that we also first encounter a society divided into debtors and creditors.  Graeber shows that arguments about debt and debt forgiveness have been at the center of political debates from Italy to China, as well as sparking innumerable insurrections. He also brilliantly demonstrates that the language of the ancient works of law and religion (words like “guilt,” “sin,” and “redemption”) derive in large part from ancient debates about debt, and shape even our most basic ideas of right and wrong. We are still fighting these battles today without knowing it.Debt: The First 5,000 Years is a fascinating chronicle of this little known history—as well as how it has defined human history, and what it means for the credit crisis of the present day and the future of our economy.\n"
          ],
          "name": "stdout"
        }
      ]
    },
    {
      "cell_type": "code",
      "metadata": {
        "colab": {
          "base_uri": "https://localhost:8080/"
        },
        "id": "ycAddoGHG80C",
        "outputId": "624694c8-c8d9-4efe-fab0-cca6d9bbc2bc"
      },
      "source": [
        "title = soup.select('#bookTitle')\r\n",
        "\r\n",
        "author_df = []\r\n",
        "author = soup.find(\"span\", itemprop=\"name\").text\r\n",
        "print(author)"
      ],
      "execution_count": 66,
      "outputs": [
        {
          "output_type": "stream",
          "text": [
            "George Orwell\n"
          ],
          "name": "stdout"
        }
      ]
    },
    {
      "cell_type": "code",
      "metadata": {
        "colab": {
          "base_uri": "https://localhost:8080/",
          "height": 370
        },
        "id": "ualwmjdx0wMh",
        "outputId": "5bfb3ec3-b90d-4c1a-9302-5c9c28d89ea0"
      },
      "source": [
        "book_page = urlopen('https://www.goodreads.com/book/show/170448.Animal_Farm')\r\n",
        "soup = bs4.BeautifulSoup(book_page, \"html.parser\")\r\n",
        "\r\n",
        "title_df = []\r\n",
        "\r\n",
        "title = soup.find(\"span\", itemprop=\"name\").text\r\n",
        "print(title)\r\n",
        "\r\n",
        "# reviews = soup.select('.reviewControls--left.greyText')\r\n",
        "# print(reviews)\r\n",
        "# rev = []\r\n",
        "# for review in reviews:\r\n",
        "#   rev.append(review.text)\r\n",
        "# print(rev)\r\n",
        "# #\\b\\d+,\\d+|\\d+\\b\r\n",
        "# rev = re.findall(\"\\s\\d+\\s|\\d+,\\d+\", rev[0])\r\n",
        "# rev = [item.replace(\",\", \"\") for item in rev]\r\n",
        "# int(rev[1])\r\n",
        "\r\n",
        "\r\n"
      ],
      "execution_count": 92,
      "outputs": [
        {
          "output_type": "error",
          "ename": "KeyboardInterrupt",
          "evalue": "ignored",
          "traceback": [
            "\u001b[0;31m---------------------------------------------------------------------------\u001b[0m",
            "\u001b[0;31mKeyboardInterrupt\u001b[0m                         Traceback (most recent call last)",
            "\u001b[0;32m<ipython-input-92-49264ee36bba>\u001b[0m in \u001b[0;36m<module>\u001b[0;34m()\u001b[0m\n\u001b[1;32m      1\u001b[0m \u001b[0mbook_page\u001b[0m \u001b[0;34m=\u001b[0m \u001b[0murlopen\u001b[0m\u001b[0;34m(\u001b[0m\u001b[0;34m'https://www.goodreads.com/book/show/170448.Animal_Farm'\u001b[0m\u001b[0;34m)\u001b[0m\u001b[0;34m\u001b[0m\u001b[0;34m\u001b[0m\u001b[0m\n\u001b[0;32m----> 2\u001b[0;31m \u001b[0msoup\u001b[0m \u001b[0;34m=\u001b[0m \u001b[0mbs4\u001b[0m\u001b[0;34m.\u001b[0m\u001b[0mBeautifulSoup\u001b[0m\u001b[0;34m(\u001b[0m\u001b[0mbook_page\u001b[0m\u001b[0;34m,\u001b[0m \u001b[0;34m\"html.parser\"\u001b[0m\u001b[0;34m)\u001b[0m\u001b[0;34m\u001b[0m\u001b[0;34m\u001b[0m\u001b[0m\n\u001b[0m\u001b[1;32m      3\u001b[0m \u001b[0;34m\u001b[0m\u001b[0m\n\u001b[1;32m      4\u001b[0m \u001b[0mtitle_df\u001b[0m \u001b[0;34m=\u001b[0m \u001b[0;34m[\u001b[0m\u001b[0;34m]\u001b[0m\u001b[0;34m\u001b[0m\u001b[0;34m\u001b[0m\u001b[0m\n\u001b[1;32m      5\u001b[0m \u001b[0;34m\u001b[0m\u001b[0m\n",
            "\u001b[0;32m/usr/local/lib/python3.7/dist-packages/bs4/__init__.py\u001b[0m in \u001b[0;36m__init__\u001b[0;34m(self, markup, features, builder, parse_only, from_encoding, exclude_encodings, **kwargs)\u001b[0m\n\u001b[1;32m    277\u001b[0m          \u001b[0mself\u001b[0m\u001b[0;34m.\u001b[0m\u001b[0mcontains_replacement_characters\u001b[0m\u001b[0;34m)\u001b[0m \u001b[0;32min\u001b[0m \u001b[0;34m(\u001b[0m\u001b[0;34m\u001b[0m\u001b[0;34m\u001b[0m\u001b[0m\n\u001b[1;32m    278\u001b[0m              self.builder.prepare_markup(\n\u001b[0;32m--> 279\u001b[0;31m                  markup, from_encoding, exclude_encodings=exclude_encodings)):\n\u001b[0m\u001b[1;32m    280\u001b[0m             \u001b[0mself\u001b[0m\u001b[0;34m.\u001b[0m\u001b[0mreset\u001b[0m\u001b[0;34m(\u001b[0m\u001b[0;34m)\u001b[0m\u001b[0;34m\u001b[0m\u001b[0;34m\u001b[0m\u001b[0m\n\u001b[1;32m    281\u001b[0m             \u001b[0;32mtry\u001b[0m\u001b[0;34m:\u001b[0m\u001b[0;34m\u001b[0m\u001b[0;34m\u001b[0m\u001b[0m\n",
            "\u001b[0;32m/usr/local/lib/python3.7/dist-packages/bs4/builder/_htmlparser.py\u001b[0m in \u001b[0;36mprepare_markup\u001b[0;34m(self, markup, user_specified_encoding, document_declared_encoding, exclude_encodings)\u001b[0m\n\u001b[1;32m    235\u001b[0m         \u001b[0mtry_encodings\u001b[0m \u001b[0;34m=\u001b[0m \u001b[0;34m[\u001b[0m\u001b[0muser_specified_encoding\u001b[0m\u001b[0;34m,\u001b[0m \u001b[0mdocument_declared_encoding\u001b[0m\u001b[0;34m]\u001b[0m\u001b[0;34m\u001b[0m\u001b[0;34m\u001b[0m\u001b[0m\n\u001b[1;32m    236\u001b[0m         dammit = UnicodeDammit(markup, try_encodings, is_html=True,\n\u001b[0;32m--> 237\u001b[0;31m                                exclude_encodings=exclude_encodings)\n\u001b[0m\u001b[1;32m    238\u001b[0m         yield (dammit.markup, dammit.original_encoding,\n\u001b[1;32m    239\u001b[0m                \u001b[0mdammit\u001b[0m\u001b[0;34m.\u001b[0m\u001b[0mdeclared_html_encoding\u001b[0m\u001b[0;34m,\u001b[0m\u001b[0;34m\u001b[0m\u001b[0;34m\u001b[0m\u001b[0m\n",
            "\u001b[0;32m/usr/local/lib/python3.7/dist-packages/bs4/dammit.py\u001b[0m in \u001b[0;36m__init__\u001b[0;34m(self, markup, override_encodings, smart_quotes_to, is_html, exclude_encodings)\u001b[0m\n\u001b[1;32m    364\u001b[0m \u001b[0;34m\u001b[0m\u001b[0m\n\u001b[1;32m    365\u001b[0m         \u001b[0mu\u001b[0m \u001b[0;34m=\u001b[0m \u001b[0;32mNone\u001b[0m\u001b[0;34m\u001b[0m\u001b[0;34m\u001b[0m\u001b[0m\n\u001b[0;32m--> 366\u001b[0;31m         \u001b[0;32mfor\u001b[0m \u001b[0mencoding\u001b[0m \u001b[0;32min\u001b[0m \u001b[0mself\u001b[0m\u001b[0;34m.\u001b[0m\u001b[0mdetector\u001b[0m\u001b[0;34m.\u001b[0m\u001b[0mencodings\u001b[0m\u001b[0;34m:\u001b[0m\u001b[0;34m\u001b[0m\u001b[0;34m\u001b[0m\u001b[0m\n\u001b[0m\u001b[1;32m    367\u001b[0m             \u001b[0mmarkup\u001b[0m \u001b[0;34m=\u001b[0m \u001b[0mself\u001b[0m\u001b[0;34m.\u001b[0m\u001b[0mdetector\u001b[0m\u001b[0;34m.\u001b[0m\u001b[0mmarkup\u001b[0m\u001b[0;34m\u001b[0m\u001b[0;34m\u001b[0m\u001b[0m\n\u001b[1;32m    368\u001b[0m             \u001b[0mu\u001b[0m \u001b[0;34m=\u001b[0m \u001b[0mself\u001b[0m\u001b[0;34m.\u001b[0m\u001b[0m_convert_from\u001b[0m\u001b[0;34m(\u001b[0m\u001b[0mencoding\u001b[0m\u001b[0;34m)\u001b[0m\u001b[0;34m\u001b[0m\u001b[0;34m\u001b[0m\u001b[0m\n",
            "\u001b[0;32m/usr/local/lib/python3.7/dist-packages/bs4/dammit.py\u001b[0m in \u001b[0;36mencodings\u001b[0;34m(self)\u001b[0m\n\u001b[1;32m    262\u001b[0m         \u001b[0;31m# encoding.\u001b[0m\u001b[0;34m\u001b[0m\u001b[0;34m\u001b[0m\u001b[0;34m\u001b[0m\u001b[0m\n\u001b[1;32m    263\u001b[0m         \u001b[0;32mif\u001b[0m \u001b[0mself\u001b[0m\u001b[0;34m.\u001b[0m\u001b[0mchardet_encoding\u001b[0m \u001b[0;32mis\u001b[0m \u001b[0;32mNone\u001b[0m\u001b[0;34m:\u001b[0m\u001b[0;34m\u001b[0m\u001b[0;34m\u001b[0m\u001b[0m\n\u001b[0;32m--> 264\u001b[0;31m             \u001b[0mself\u001b[0m\u001b[0;34m.\u001b[0m\u001b[0mchardet_encoding\u001b[0m \u001b[0;34m=\u001b[0m \u001b[0mchardet_dammit\u001b[0m\u001b[0;34m(\u001b[0m\u001b[0mself\u001b[0m\u001b[0;34m.\u001b[0m\u001b[0mmarkup\u001b[0m\u001b[0;34m)\u001b[0m\u001b[0;34m\u001b[0m\u001b[0;34m\u001b[0m\u001b[0m\n\u001b[0m\u001b[1;32m    265\u001b[0m         \u001b[0;32mif\u001b[0m \u001b[0mself\u001b[0m\u001b[0;34m.\u001b[0m\u001b[0m_usable\u001b[0m\u001b[0;34m(\u001b[0m\u001b[0mself\u001b[0m\u001b[0;34m.\u001b[0m\u001b[0mchardet_encoding\u001b[0m\u001b[0;34m,\u001b[0m \u001b[0mtried\u001b[0m\u001b[0;34m)\u001b[0m\u001b[0;34m:\u001b[0m\u001b[0;34m\u001b[0m\u001b[0;34m\u001b[0m\u001b[0m\n\u001b[1;32m    266\u001b[0m             \u001b[0;32myield\u001b[0m \u001b[0mself\u001b[0m\u001b[0;34m.\u001b[0m\u001b[0mchardet_encoding\u001b[0m\u001b[0;34m\u001b[0m\u001b[0;34m\u001b[0m\u001b[0m\n",
            "\u001b[0;32m/usr/local/lib/python3.7/dist-packages/bs4/dammit.py\u001b[0m in \u001b[0;36mchardet_dammit\u001b[0;34m(s)\u001b[0m\n\u001b[1;32m     32\u001b[0m         \u001b[0;32mimport\u001b[0m \u001b[0mchardet\u001b[0m\u001b[0;34m\u001b[0m\u001b[0;34m\u001b[0m\u001b[0m\n\u001b[1;32m     33\u001b[0m         \u001b[0;32mdef\u001b[0m \u001b[0mchardet_dammit\u001b[0m\u001b[0;34m(\u001b[0m\u001b[0ms\u001b[0m\u001b[0;34m)\u001b[0m\u001b[0;34m:\u001b[0m\u001b[0;34m\u001b[0m\u001b[0;34m\u001b[0m\u001b[0m\n\u001b[0;32m---> 34\u001b[0;31m             \u001b[0;32mreturn\u001b[0m \u001b[0mchardet\u001b[0m\u001b[0;34m.\u001b[0m\u001b[0mdetect\u001b[0m\u001b[0;34m(\u001b[0m\u001b[0ms\u001b[0m\u001b[0;34m)\u001b[0m\u001b[0;34m[\u001b[0m\u001b[0;34m'encoding'\u001b[0m\u001b[0;34m]\u001b[0m\u001b[0;34m\u001b[0m\u001b[0;34m\u001b[0m\u001b[0m\n\u001b[0m\u001b[1;32m     35\u001b[0m         \u001b[0;31m#import chardet.constants\u001b[0m\u001b[0;34m\u001b[0m\u001b[0;34m\u001b[0m\u001b[0;34m\u001b[0m\u001b[0m\n\u001b[1;32m     36\u001b[0m         \u001b[0;31m#chardet.constants._debug = 1\u001b[0m\u001b[0;34m\u001b[0m\u001b[0;34m\u001b[0m\u001b[0;34m\u001b[0m\u001b[0m\n",
            "\u001b[0;32m/usr/local/lib/python3.7/dist-packages/chardet/__init__.py\u001b[0m in \u001b[0;36mdetect\u001b[0;34m(byte_str)\u001b[0m\n\u001b[1;32m     36\u001b[0m             \u001b[0mbyte_str\u001b[0m \u001b[0;34m=\u001b[0m \u001b[0mbytearray\u001b[0m\u001b[0;34m(\u001b[0m\u001b[0mbyte_str\u001b[0m\u001b[0;34m)\u001b[0m\u001b[0;34m\u001b[0m\u001b[0;34m\u001b[0m\u001b[0m\n\u001b[1;32m     37\u001b[0m     \u001b[0mdetector\u001b[0m \u001b[0;34m=\u001b[0m \u001b[0mUniversalDetector\u001b[0m\u001b[0;34m(\u001b[0m\u001b[0;34m)\u001b[0m\u001b[0;34m\u001b[0m\u001b[0;34m\u001b[0m\u001b[0m\n\u001b[0;32m---> 38\u001b[0;31m     \u001b[0mdetector\u001b[0m\u001b[0;34m.\u001b[0m\u001b[0mfeed\u001b[0m\u001b[0;34m(\u001b[0m\u001b[0mbyte_str\u001b[0m\u001b[0;34m)\u001b[0m\u001b[0;34m\u001b[0m\u001b[0;34m\u001b[0m\u001b[0m\n\u001b[0m\u001b[1;32m     39\u001b[0m     \u001b[0;32mreturn\u001b[0m \u001b[0mdetector\u001b[0m\u001b[0;34m.\u001b[0m\u001b[0mclose\u001b[0m\u001b[0;34m(\u001b[0m\u001b[0;34m)\u001b[0m\u001b[0;34m\u001b[0m\u001b[0;34m\u001b[0m\u001b[0m\n",
            "\u001b[0;32m/usr/local/lib/python3.7/dist-packages/chardet/universaldetector.py\u001b[0m in \u001b[0;36mfeed\u001b[0;34m(self, byte_str)\u001b[0m\n\u001b[1;32m    209\u001b[0m                 \u001b[0mself\u001b[0m\u001b[0;34m.\u001b[0m\u001b[0m_charset_probers\u001b[0m\u001b[0;34m.\u001b[0m\u001b[0mappend\u001b[0m\u001b[0;34m(\u001b[0m\u001b[0mLatin1Prober\u001b[0m\u001b[0;34m(\u001b[0m\u001b[0;34m)\u001b[0m\u001b[0;34m)\u001b[0m\u001b[0;34m\u001b[0m\u001b[0;34m\u001b[0m\u001b[0m\n\u001b[1;32m    210\u001b[0m             \u001b[0;32mfor\u001b[0m \u001b[0mprober\u001b[0m \u001b[0;32min\u001b[0m \u001b[0mself\u001b[0m\u001b[0;34m.\u001b[0m\u001b[0m_charset_probers\u001b[0m\u001b[0;34m:\u001b[0m\u001b[0;34m\u001b[0m\u001b[0;34m\u001b[0m\u001b[0m\n\u001b[0;32m--> 211\u001b[0;31m                 \u001b[0;32mif\u001b[0m \u001b[0mprober\u001b[0m\u001b[0;34m.\u001b[0m\u001b[0mfeed\u001b[0m\u001b[0;34m(\u001b[0m\u001b[0mbyte_str\u001b[0m\u001b[0;34m)\u001b[0m \u001b[0;34m==\u001b[0m \u001b[0mProbingState\u001b[0m\u001b[0;34m.\u001b[0m\u001b[0mFOUND_IT\u001b[0m\u001b[0;34m:\u001b[0m\u001b[0;34m\u001b[0m\u001b[0;34m\u001b[0m\u001b[0m\n\u001b[0m\u001b[1;32m    212\u001b[0m                     self.result = {'encoding': prober.charset_name,\n\u001b[1;32m    213\u001b[0m                                    \u001b[0;34m'confidence'\u001b[0m\u001b[0;34m:\u001b[0m \u001b[0mprober\u001b[0m\u001b[0;34m.\u001b[0m\u001b[0mget_confidence\u001b[0m\u001b[0;34m(\u001b[0m\u001b[0;34m)\u001b[0m\u001b[0;34m,\u001b[0m\u001b[0;34m\u001b[0m\u001b[0;34m\u001b[0m\u001b[0m\n",
            "\u001b[0;32m/usr/local/lib/python3.7/dist-packages/chardet/charsetgroupprober.py\u001b[0m in \u001b[0;36mfeed\u001b[0;34m(self, byte_str)\u001b[0m\n\u001b[1;32m     69\u001b[0m             \u001b[0;32mif\u001b[0m \u001b[0;32mnot\u001b[0m \u001b[0mprober\u001b[0m\u001b[0;34m.\u001b[0m\u001b[0mactive\u001b[0m\u001b[0;34m:\u001b[0m\u001b[0;34m\u001b[0m\u001b[0;34m\u001b[0m\u001b[0m\n\u001b[1;32m     70\u001b[0m                 \u001b[0;32mcontinue\u001b[0m\u001b[0;34m\u001b[0m\u001b[0;34m\u001b[0m\u001b[0m\n\u001b[0;32m---> 71\u001b[0;31m             \u001b[0mstate\u001b[0m \u001b[0;34m=\u001b[0m \u001b[0mprober\u001b[0m\u001b[0;34m.\u001b[0m\u001b[0mfeed\u001b[0m\u001b[0;34m(\u001b[0m\u001b[0mbyte_str\u001b[0m\u001b[0;34m)\u001b[0m\u001b[0;34m\u001b[0m\u001b[0;34m\u001b[0m\u001b[0m\n\u001b[0m\u001b[1;32m     72\u001b[0m             \u001b[0;32mif\u001b[0m \u001b[0;32mnot\u001b[0m \u001b[0mstate\u001b[0m\u001b[0;34m:\u001b[0m\u001b[0;34m\u001b[0m\u001b[0;34m\u001b[0m\u001b[0m\n\u001b[1;32m     73\u001b[0m                 \u001b[0;32mcontinue\u001b[0m\u001b[0;34m\u001b[0m\u001b[0;34m\u001b[0m\u001b[0m\n",
            "\u001b[0;32m/usr/local/lib/python3.7/dist-packages/chardet/sbcharsetprober.py\u001b[0m in \u001b[0;36mfeed\u001b[0;34m(self, byte_str)\u001b[0m\n\u001b[1;32m     91\u001b[0m             \u001b[0;31m#      _total_char purposes.\u001b[0m\u001b[0;34m\u001b[0m\u001b[0;34m\u001b[0m\u001b[0;34m\u001b[0m\u001b[0m\n\u001b[1;32m     92\u001b[0m             \u001b[0;32mif\u001b[0m \u001b[0morder\u001b[0m \u001b[0;34m<\u001b[0m \u001b[0mCharacterCategory\u001b[0m\u001b[0;34m.\u001b[0m\u001b[0mCONTROL\u001b[0m\u001b[0;34m:\u001b[0m\u001b[0;34m\u001b[0m\u001b[0;34m\u001b[0m\u001b[0m\n\u001b[0;32m---> 93\u001b[0;31m                 \u001b[0mself\u001b[0m\u001b[0;34m.\u001b[0m\u001b[0m_total_char\u001b[0m \u001b[0;34m+=\u001b[0m \u001b[0;36m1\u001b[0m\u001b[0;34m\u001b[0m\u001b[0;34m\u001b[0m\u001b[0m\n\u001b[0m\u001b[1;32m     94\u001b[0m             \u001b[0;32mif\u001b[0m \u001b[0morder\u001b[0m \u001b[0;34m<\u001b[0m \u001b[0mself\u001b[0m\u001b[0;34m.\u001b[0m\u001b[0mSAMPLE_SIZE\u001b[0m\u001b[0;34m:\u001b[0m\u001b[0;34m\u001b[0m\u001b[0;34m\u001b[0m\u001b[0m\n\u001b[1;32m     95\u001b[0m                 \u001b[0mself\u001b[0m\u001b[0;34m.\u001b[0m\u001b[0m_freq_char\u001b[0m \u001b[0;34m+=\u001b[0m \u001b[0;36m1\u001b[0m\u001b[0;34m\u001b[0m\u001b[0;34m\u001b[0m\u001b[0m\n",
            "\u001b[0;31mKeyboardInterrupt\u001b[0m: "
          ]
        }
      ]
    },
    {
      "cell_type": "code",
      "metadata": {
        "id": "yXv7VQzuczeT"
      },
      "source": [
        "#How to get book page details from book titles: \r\n",
        "\r\n",
        "#Take a list of Book titles and returns an array of links\r\n",
        "def BookLinks(query):\r\n",
        "\r\n",
        "  #Empty list to store links\r\n",
        "  links = []\r\n",
        "\r\n",
        "  #Search each search query\r\n",
        "  for q in query:\r\n",
        "    # print(q)\r\n",
        "\r\n",
        "    #Specify search feature in goodreads.com\r\n",
        "    url = ' site: goodreads.com'\r\n",
        "\r\n",
        "    #Add the search query to the search term\r\n",
        "    search_q = str(q) + url\r\n",
        "\r\n",
        "    #Get the goodreads link \r\n",
        "    gdrd_l = search(search_q, tld=\"com\", num=1, stop=1, pause=2)\r\n",
        "\r\n",
        "    #Append to list\r\n",
        "    for i in gdrd_l:\r\n",
        "      links.append(i)\r\n",
        "  \r\n",
        "  #Return the list\r\n",
        "  return links\r\n",
        "\r\n",
        "\r\n",
        "books_two = BookLinks([\"Harry Potter and the Half Blood Prince\",\"Animal Farm\",\"Freakonomics\"])\r\n",
        "  "
      ],
      "execution_count": 93,
      "outputs": []
    },
    {
      "cell_type": "code",
      "metadata": {
        "colab": {
          "base_uri": "https://localhost:8080/"
        },
        "id": "Bs0Oe13Q53s3",
        "outputId": "cab35f66-dc82-42cc-dfcb-08dc1355465e"
      },
      "source": [
        "books_two"
      ],
      "execution_count": 7,
      "outputs": [
        {
          "output_type": "execute_result",
          "data": {
            "text/plain": [
              "['https://www.goodreads.com/book/show/1.Harry_Potter_and_the_Half_Blood_Prince',\n",
              " 'https://www.goodreads.com/book/show/170448.Animal_Farm',\n",
              " 'https://www.goodreads.com/book/show/1202.Freakonomics']"
            ]
          },
          "metadata": {
            "tags": []
          },
          "execution_count": 7
        }
      ]
    }
  ]
}